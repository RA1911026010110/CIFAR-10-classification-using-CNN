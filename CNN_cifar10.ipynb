{
  "nbformat": 4,
  "nbformat_minor": 0,
  "metadata": {
    "colab": {
      "name": "CNN_cifar10.ipynb",
      "provenance": [],
      "collapsed_sections": [],
      "authorship_tag": "ABX9TyNtRcmcUgp3xgzQyipB0xR9",
      "include_colab_link": true
    },
    "kernelspec": {
      "name": "python3",
      "display_name": "Python 3"
    },
    "language_info": {
      "name": "python"
    }
  },
  "cells": [
    {
      "cell_type": "markdown",
      "metadata": {
        "id": "view-in-github",
        "colab_type": "text"
      },
      "source": [
        "<a href=\"https://colab.research.google.com/github/RA1911026010110/CIFAR-10-classification-using-CNN/blob/main/CNN_cifar10.ipynb\" target=\"_parent\"><img src=\"https://colab.research.google.com/assets/colab-badge.svg\" alt=\"Open In Colab\"/></a>"
      ]
    },
    {
      "cell_type": "code",
      "execution_count": null,
      "metadata": {
        "id": "IHgkiyxddOQw"
      },
      "outputs": [],
      "source": [
        "import tensorflow as tf\n",
        "from tensorflow.keras import datasets,layers,models\n",
        "import matplotlib.pyplot as plt\n",
        "import numpy as np"
      ]
    },
    {
      "cell_type": "code",
      "source": [
        "(X_train,y_train),(X_test,y_test) = datasets.cifar10.load_data()"
      ],
      "metadata": {
        "id": "f7cCjcqQdkdq"
      },
      "execution_count": null,
      "outputs": []
    },
    {
      "cell_type": "code",
      "source": [
        "X_train.shape"
      ],
      "metadata": {
        "colab": {
          "base_uri": "https://localhost:8080/"
        },
        "id": "dKNsFJg3dtl4",
        "outputId": "640dd700-40a1-4794-d0f0-2a83f7f66b8b"
      },
      "execution_count": null,
      "outputs": [
        {
          "output_type": "execute_result",
          "data": {
            "text/plain": [
              "(50000, 32, 32, 3)"
            ]
          },
          "metadata": {},
          "execution_count": 5
        }
      ]
    },
    {
      "cell_type": "code",
      "source": [
        "classes = [\"airplane\",\"automobile\",\"bird\",\"cat\",\"deer\",\"dog\",\"frog\",\"horse\",\"ship\",\"truck\"]"
      ],
      "metadata": {
        "id": "78dvw4U2dzLT"
      },
      "execution_count": null,
      "outputs": []
    },
    {
      "cell_type": "code",
      "source": [
        "def plot_sample(X,y,index):\n",
        "  plt.figure(figsize=(10,1))\n",
        "  plt.imshow(X[index])\n",
        "  plt.xlabel(classes[y[index]])"
      ],
      "metadata": {
        "id": "H8H1TCcxd14l"
      },
      "execution_count": null,
      "outputs": []
    },
    {
      "cell_type": "code",
      "source": [
        "X_train = X_train/255\n",
        "X_test = X_test/255"
      ],
      "metadata": {
        "id": "6utu--Z7gNWU"
      },
      "execution_count": null,
      "outputs": []
    },
    {
      "cell_type": "code",
      "source": [
        "ann = models.Sequential([\n",
        "            layers.Flatten(input_shape = (32,32,3)),\n",
        "            layers.Dense(3000,activation='relu'),\n",
        "            layers.Dense(1000,activation='relu'),\n",
        "            layers.Dense(10,activation='sigmoid')\n",
        "])\n",
        "\n",
        "ann.compile(optimizer='SGD',loss='sparse_categorical_crossentropy',metrics=['accuracy'])\n",
        "\n",
        "ann.fit(X_train,y_train,epochs=5)"
      ],
      "metadata": {
        "colab": {
          "base_uri": "https://localhost:8080/"
        },
        "id": "pOuUTb59gv04",
        "outputId": "ae76c3d9-f421-4887-e06f-befc8c5940d8"
      },
      "execution_count": null,
      "outputs": [
        {
          "output_type": "stream",
          "name": "stdout",
          "text": [
            "Epoch 1/5\n",
            "1563/1563 [==============================] - 67s 43ms/step - loss: 1.8116 - accuracy: 0.3547\n",
            "Epoch 2/5\n",
            "1563/1563 [==============================] - 67s 43ms/step - loss: 1.6220 - accuracy: 0.4265\n",
            "Epoch 3/5\n",
            "1563/1563 [==============================] - 66s 42ms/step - loss: 1.5427 - accuracy: 0.4564\n",
            "Epoch 4/5\n",
            "1563/1563 [==============================] - 66s 42ms/step - loss: 1.4803 - accuracy: 0.4793\n",
            "Epoch 5/5\n",
            "1563/1563 [==============================] - 66s 42ms/step - loss: 1.4312 - accuracy: 0.4982\n"
          ]
        },
        {
          "output_type": "execute_result",
          "data": {
            "text/plain": [
              "<keras.callbacks.History at 0x7f7316508210>"
            ]
          },
          "metadata": {},
          "execution_count": 9
        }
      ]
    },
    {
      "cell_type": "code",
      "source": [
        "ann.evaluate(X_test,y_test)"
      ],
      "metadata": {
        "colab": {
          "base_uri": "https://localhost:8080/"
        },
        "id": "AIVcMlPYh9jZ",
        "outputId": "43d2c4fa-212d-42e9-c70f-4199118aa6e7"
      },
      "execution_count": null,
      "outputs": [
        {
          "output_type": "stream",
          "name": "stdout",
          "text": [
            "313/313 [==============================] - 5s 17ms/step - loss: 1.4929 - accuracy: 0.4702\n"
          ]
        },
        {
          "output_type": "execute_result",
          "data": {
            "text/plain": [
              "[1.4928853511810303, 0.4702000021934509]"
            ]
          },
          "metadata": {},
          "execution_count": 10
        }
      ]
    },
    {
      "cell_type": "code",
      "source": [
        "y_pred = ann.predict(X_test)\n",
        "y_pred"
      ],
      "metadata": {
        "colab": {
          "base_uri": "https://localhost:8080/"
        },
        "id": "jjjPe9ZAiFhc",
        "outputId": "56f3e18b-fd89-4425-c70d-5db67c54a04f"
      },
      "execution_count": null,
      "outputs": [
        {
          "output_type": "execute_result",
          "data": {
            "text/plain": [
              "array([[0.3689837 , 0.5181818 , 0.7502905 , ..., 0.04475677, 0.5261206 ,\n",
              "        0.08381361],\n",
              "       [0.94351614, 0.97853553, 0.37961265, ..., 0.04929048, 0.9683696 ,\n",
              "        0.9788132 ],\n",
              "       [0.98552287, 0.9446349 , 0.44476235, ..., 0.12629661, 0.9827955 ,\n",
              "        0.895316  ],\n",
              "       ...,\n",
              "       [0.07834741, 0.06978929, 0.8513287 , ..., 0.47602642, 0.35327414,\n",
              "        0.12717643],\n",
              "       [0.51077044, 0.4788843 , 0.7223588 , ..., 0.21757677, 0.19782564,\n",
              "        0.15293857],\n",
              "       [0.61853606, 0.25123984, 0.7396426 , ..., 0.7840309 , 0.22480822,\n",
              "        0.19639984]], dtype=float32)"
            ]
          },
          "metadata": {},
          "execution_count": 11
        }
      ]
    },
    {
      "cell_type": "code",
      "source": [
        "import numpy as np\n",
        "from sklearn.metrics import classification_report\n",
        "\n",
        "y_pred_classes = [np.argmax(element) for element in y_pred]\n",
        "print(classification_report(y_test,y_pred_classes))"
      ],
      "metadata": {
        "colab": {
          "base_uri": "https://localhost:8080/"
        },
        "id": "sBPD3XDMjI3D",
        "outputId": "2a710ed8-88f6-452a-8559-ff4a8358163a"
      },
      "execution_count": null,
      "outputs": [
        {
          "output_type": "stream",
          "name": "stdout",
          "text": [
            "              precision    recall  f1-score   support\n",
            "\n",
            "           0       0.46      0.65      0.54      1000\n",
            "           1       0.56      0.66      0.61      1000\n",
            "           2       0.38      0.27      0.32      1000\n",
            "           3       0.39      0.26      0.31      1000\n",
            "           4       0.38      0.46      0.42      1000\n",
            "           5       0.54      0.23      0.32      1000\n",
            "           6       0.35      0.79      0.48      1000\n",
            "           7       0.76      0.34      0.47      1000\n",
            "           8       0.61      0.60      0.60      1000\n",
            "           9       0.63      0.44      0.52      1000\n",
            "\n",
            "    accuracy                           0.47     10000\n",
            "   macro avg       0.51      0.47      0.46     10000\n",
            "weighted avg       0.51      0.47      0.46     10000\n",
            "\n"
          ]
        }
      ]
    },
    {
      "cell_type": "code",
      "source": [
        "cnn = models.Sequential([\n",
        "            #cnn\n",
        "            layers.Conv2D(filters=32,kernel_size=(3,3),activation='relu',input_shape=(32,32,3)),\n",
        "            layers.MaxPooling2D((2,2)),\n",
        "            layers.Conv2D(filters=64,activation='relu',kernel_size=(3,3)),\n",
        "            layers.MaxPooling2D((2,2)),\n",
        "            \n",
        "            #dense\n",
        "            layers.Flatten(),\n",
        "            layers.Dense(64,activation='relu'),\n",
        "            layers.Dense(10,activation='softmax')\n",
        "])\n",
        "\n",
        "cnn.compile(optimizer='adam',loss='sparse_categorical_crossentropy',metrics=['accuracy'])\n",
        "\n",
        "cnn.fit(X_train,y_train,epochs=10)"
      ],
      "metadata": {
        "colab": {
          "base_uri": "https://localhost:8080/"
        },
        "id": "6AgnptgejdSD",
        "outputId": "673d9fe5-1e0f-49a2-bb50-4fc48a63175f"
      },
      "execution_count": null,
      "outputs": [
        {
          "output_type": "stream",
          "name": "stdout",
          "text": [
            "Epoch 1/10\n",
            "1563/1563 [==============================] - 49s 31ms/step - loss: 1.4920 - accuracy: 0.4596\n",
            "Epoch 2/10\n",
            "1563/1563 [==============================] - 49s 32ms/step - loss: 1.1388 - accuracy: 0.5992\n",
            "Epoch 3/10\n",
            "1563/1563 [==============================] - 49s 32ms/step - loss: 1.0131 - accuracy: 0.6457\n",
            "Epoch 4/10\n",
            "1563/1563 [==============================] - 50s 32ms/step - loss: 0.9323 - accuracy: 0.6749\n",
            "Epoch 5/10\n",
            "1563/1563 [==============================] - 50s 32ms/step - loss: 0.8719 - accuracy: 0.6962\n",
            "Epoch 6/10\n",
            "1563/1563 [==============================] - 49s 31ms/step - loss: 0.8158 - accuracy: 0.7167\n",
            "Epoch 7/10\n",
            "1563/1563 [==============================] - 49s 31ms/step - loss: 0.7733 - accuracy: 0.7317\n",
            "Epoch 8/10\n",
            "1563/1563 [==============================] - 49s 31ms/step - loss: 0.7298 - accuracy: 0.7465\n",
            "Epoch 9/10\n",
            "1563/1563 [==============================] - 49s 31ms/step - loss: 0.6883 - accuracy: 0.7593\n",
            "Epoch 10/10\n",
            "1563/1563 [==============================] - 49s 31ms/step - loss: 0.6569 - accuracy: 0.7700\n"
          ]
        },
        {
          "output_type": "execute_result",
          "data": {
            "text/plain": [
              "<keras.callbacks.History at 0x7f73109eb290>"
            ]
          },
          "metadata": {},
          "execution_count": 15
        }
      ]
    },
    {
      "cell_type": "code",
      "source": [
        "cnn.evaluate(X_test,y_test)"
      ],
      "metadata": {
        "colab": {
          "base_uri": "https://localhost:8080/"
        },
        "id": "-Yo8zjmTmLrX",
        "outputId": "8066168e-5046-49cc-ab37-f08a7b44b29d"
      },
      "execution_count": null,
      "outputs": [
        {
          "output_type": "stream",
          "name": "stdout",
          "text": [
            "313/313 [==============================] - 4s 11ms/step - loss: 0.9189 - accuracy: 0.6957\n"
          ]
        },
        {
          "output_type": "execute_result",
          "data": {
            "text/plain": [
              "[0.9189305901527405, 0.6956999897956848]"
            ]
          },
          "metadata": {},
          "execution_count": 16
        }
      ]
    },
    {
      "cell_type": "code",
      "source": [
        "import numpy as np\n",
        "from sklearn.metrics import classification_report\n",
        "y_pred2 = cnn.predict(X_test)\n",
        "y_pred2_classes = [np.argmax(element) for element in y_pred2]\n",
        "print(classification_report(y_test,y_pred2_classes))"
      ],
      "metadata": {
        "colab": {
          "base_uri": "https://localhost:8080/"
        },
        "id": "1KhjKykrmy1h",
        "outputId": "024657e3-5125-4099-834d-23aa09ce47cc"
      },
      "execution_count": null,
      "outputs": [
        {
          "output_type": "stream",
          "name": "stdout",
          "text": [
            "              precision    recall  f1-score   support\n",
            "\n",
            "           0       0.72      0.77      0.74      1000\n",
            "           1       0.75      0.85      0.80      1000\n",
            "           2       0.62      0.57      0.59      1000\n",
            "           3       0.52      0.49      0.51      1000\n",
            "           4       0.65      0.60      0.63      1000\n",
            "           5       0.63      0.61      0.62      1000\n",
            "           6       0.67      0.86      0.75      1000\n",
            "           7       0.78      0.70      0.74      1000\n",
            "           8       0.83      0.78      0.80      1000\n",
            "           9       0.78      0.72      0.75      1000\n",
            "\n",
            "    accuracy                           0.70     10000\n",
            "   macro avg       0.70      0.70      0.69     10000\n",
            "weighted avg       0.70      0.70      0.69     10000\n",
            "\n"
          ]
        }
      ]
    },
    {
      "cell_type": "code",
      "source": [
        ""
      ],
      "metadata": {
        "id": "jHlTgilqnXdS"
      },
      "execution_count": null,
      "outputs": []
    }
  ]
}